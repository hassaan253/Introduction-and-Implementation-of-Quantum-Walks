{
 "cells": [
  {
   "cell_type": "code",
   "execution_count": 6,
   "id": "26296c13",
   "metadata": {},
   "outputs": [
    {
     "name": "stdout",
     "output_type": "stream",
     "text": [
      "Collecting qiskit\n",
      "  Downloading qiskit-0.34.0.tar.gz (13 kB)\n",
      "  Preparing metadata (setup.py): started\n",
      "  Preparing metadata (setup.py): finished with status 'done'\n",
      "Collecting qiskit-terra==0.19.1\n",
      "  Downloading qiskit_terra-0.19.1-cp39-cp39-win_amd64.whl (5.6 MB)\n",
      "Collecting qiskit-aer==0.10.1\n",
      "  Downloading qiskit_aer-0.10.1-cp39-cp39-win_amd64.whl (24.2 MB)\n",
      "Collecting qiskit-ibmq-provider==0.18.3\n",
      "  Downloading qiskit_ibmq_provider-0.18.3-py3-none-any.whl (238 kB)\n",
      "Collecting qiskit-ignis==0.7.0\n",
      "  Downloading qiskit_ignis-0.7.0-py3-none-any.whl (200 kB)\n",
      "Requirement already satisfied: numpy>=1.16.3 in c:\\users\\ali\\appdata\\local\\programs\\python\\python39\\lib\\site-packages (from qiskit-aer==0.10.1->qiskit) (1.21.3)\n",
      "Collecting scipy>=1.0\n",
      "  Downloading scipy-1.7.3-cp39-cp39-win_amd64.whl (34.3 MB)\n",
      "Requirement already satisfied: python-dateutil>=2.8.0 in c:\\users\\ali\\appdata\\local\\programs\\python\\python39\\lib\\site-packages (from qiskit-ibmq-provider==0.18.3->qiskit) (2.8.2)\n",
      "Collecting requests-ntlm>=1.1.0\n",
      "  Downloading requests_ntlm-1.1.0-py2.py3-none-any.whl (5.7 kB)\n",
      "Collecting websocket-client>=1.0.1\n",
      "  Downloading websocket_client-1.2.3-py3-none-any.whl (53 kB)\n",
      "Collecting requests>=2.19\n",
      "  Downloading requests-2.26.0-py2.py3-none-any.whl (62 kB)\n",
      "Collecting urllib3>=1.21.1\n",
      "  Downloading urllib3-1.26.7-py2.py3-none-any.whl (138 kB)\n",
      "Collecting retworkx>=0.8.0\n",
      "  Downloading retworkx-0.10.2-cp39-cp39-win_amd64.whl (1.0 MB)\n",
      "Requirement already satisfied: setuptools>=40.1.0 in c:\\users\\ali\\appdata\\local\\programs\\python\\python39\\lib\\site-packages (from qiskit-ignis==0.7.0->qiskit) (49.2.1)\n",
      "Collecting python-constraint>=1.4\n",
      "  Downloading python-constraint-1.4.0.tar.bz2 (18 kB)\n",
      "  Preparing metadata (setup.py): started\n",
      "  Preparing metadata (setup.py): finished with status 'done'\n",
      "Collecting ply>=3.10\n",
      "  Downloading ply-3.11-py2.py3-none-any.whl (49 kB)\n",
      "Collecting psutil>=5\n",
      "  Downloading psutil-5.8.0-cp39-cp39-win_amd64.whl (246 kB)\n",
      "Collecting dill>=0.3\n",
      "  Downloading dill-0.3.4-py2.py3-none-any.whl (86 kB)\n",
      "Collecting sympy>=1.3\n",
      "  Downloading sympy-1.9-py3-none-any.whl (6.2 MB)\n",
      "Collecting stevedore>=3.0.0\n",
      "  Downloading stevedore-3.5.0-py3-none-any.whl (49 kB)\n",
      "Collecting tweedledum<2.0,>=1.1\n",
      "  Downloading tweedledum-1.1.1-cp39-cp39-win_amd64.whl (1.1 MB)\n",
      "Requirement already satisfied: six>=1.5 in c:\\users\\ali\\appdata\\local\\programs\\python\\python39\\lib\\site-packages (from python-dateutil>=2.8.0->qiskit-ibmq-provider==0.18.3->qiskit) (1.16.0)\n",
      "Collecting charset-normalizer~=2.0.0\n",
      "  Downloading charset_normalizer-2.0.9-py3-none-any.whl (39 kB)\n",
      "Collecting certifi>=2017.4.17\n",
      "  Downloading certifi-2021.10.8-py2.py3-none-any.whl (149 kB)\n",
      "Collecting idna<4,>=2.5\n",
      "  Downloading idna-3.3-py3-none-any.whl (61 kB)\n",
      "Collecting cryptography>=1.3\n",
      "  Downloading cryptography-36.0.1-cp36-abi3-win_amd64.whl (2.2 MB)\n",
      "Collecting ntlm-auth>=1.0.2\n",
      "  Downloading ntlm_auth-1.5.0-py2.py3-none-any.whl (29 kB)\n",
      "Collecting pbr!=2.1.0,>=2.0.0\n",
      "  Downloading pbr-5.8.0-py2.py3-none-any.whl (112 kB)\n",
      "Collecting mpmath>=0.19\n",
      "  Downloading mpmath-1.2.1-py3-none-any.whl (532 kB)\n",
      "Requirement already satisfied: cffi>=1.12 in c:\\users\\ali\\appdata\\local\\programs\\python\\python39\\lib\\site-packages (from cryptography>=1.3->requests-ntlm>=1.1.0->qiskit-ibmq-provider==0.18.3->qiskit) (1.15.0)\n",
      "Requirement already satisfied: pycparser in c:\\users\\ali\\appdata\\local\\programs\\python\\python39\\lib\\site-packages (from cffi>=1.12->cryptography>=1.3->requests-ntlm>=1.1.0->qiskit-ibmq-provider==0.18.3->qiskit) (2.21)\n",
      "Using legacy 'setup.py install' for qiskit, since package 'wheel' is not installed.\n",
      "Using legacy 'setup.py install' for python-constraint, since package 'wheel' is not installed.\n",
      "Installing collected packages: urllib3, pbr, mpmath, idna, charset-normalizer, certifi, tweedledum, sympy, stevedore, scipy, retworkx, requests, python-constraint, psutil, ply, ntlm-auth, dill, cryptography, websocket-client, requests-ntlm, qiskit-terra, qiskit-ignis, qiskit-ibmq-provider, qiskit-aer, qiskit\n",
      "    Running setup.py install for python-constraint: started\n",
      "    Running setup.py install for python-constraint: finished with status 'done'\n",
      "    Running setup.py install for qiskit: started\n",
      "    Running setup.py install for qiskit: finished with status 'done'\n",
      "Successfully installed certifi-2021.10.8 charset-normalizer-2.0.9 cryptography-36.0.1 dill-0.3.4 idna-3.3 mpmath-1.2.1 ntlm-auth-1.5.0 pbr-5.8.0 ply-3.11 psutil-5.8.0 python-constraint-1.4.0 qiskit-0.34.0 qiskit-aer-0.10.1 qiskit-ibmq-provider-0.18.3 qiskit-ignis-0.7.0 qiskit-terra-0.19.1 requests-2.26.0 requests-ntlm-1.1.0 retworkx-0.10.2 scipy-1.7.3 stevedore-3.5.0 sympy-1.9 tweedledum-1.1.1 urllib3-1.26.7 websocket-client-1.2.3\n"
     ]
    }
   ],
   "source": [
    "!pip install qiskit"
   ]
  },
  {
   "cell_type": "code",
   "execution_count": 7,
   "id": "8fd30303",
   "metadata": {},
   "outputs": [],
   "source": [
    "\n",
    "\n",
    "import matplotlib.pyplot as plt\n",
    "import numpy as np\n",
    "from qiskit import IBMQ, Aer, assemble, transpile\n",
    "from qiskit import QuantumCircuit, ClassicalRegister, QuantumRegister\n",
    "from qiskit.providers.ibmq import least_busy\n",
    "from qiskit.visualization import plot_histogram\n",
    "\n"
   ]
  },
  {
   "cell_type": "code",
   "execution_count": 8,
   "id": "39963d24",
   "metadata": {},
   "outputs": [
    {
     "data": {
      "text/html": [
       "<pre style=\"word-wrap: normal;white-space: pre;background: #fff0;line-height: 1.1;font-family: &quot;Courier New&quot;,Courier,monospace\">     ┌───┐ ░                 ░ ┌───┐               ┌───┐\n",
       "q_0: ┤ H ├─░───■────■────■───░─┤ X ├──■────■────■──┤ X ├\n",
       "     └───┘ ░   │    │  ┌─┴─┐ ░ ├───┤  │    │  ┌─┴─┐├───┤\n",
       "q_1: ──────░───■────■──┤ X ├─░─┤ X ├──■────■──┤ X ├┤ X ├\n",
       "           ░   │  ┌─┴─┐└───┘ ░ ├───┤  │  ┌─┴─┐├───┤└───┘\n",
       "q_2: ──────░───■──┤ X ├──────░─┤ X ├──■──┤ X ├┤ X ├─────\n",
       "           ░ ┌─┴─┐└───┘      ░ └───┘┌─┴─┐└───┘└───┘     \n",
       "q_3: ──────░─┤ X ├───────────░──────┤ X ├───────────────\n",
       "           ░ └───┘           ░      └───┘               </pre>"
      ],
      "text/plain": [
       "     ┌───┐ ░                 ░ ┌───┐               ┌───┐\n",
       "q_0: ┤ H ├─░───■────■────■───░─┤ X ├──■────■────■──┤ X ├\n",
       "     └───┘ ░   │    │  ┌─┴─┐ ░ ├───┤  │    │  ┌─┴─┐├───┤\n",
       "q_1: ──────░───■────■──┤ X ├─░─┤ X ├──■────■──┤ X ├┤ X ├\n",
       "           ░   │  ┌─┴─┐└───┘ ░ ├───┤  │  ┌─┴─┐├───┤└───┘\n",
       "q_2: ──────░───■──┤ X ├──────░─┤ X ├──■──┤ X ├┤ X ├─────\n",
       "           ░ ┌─┴─┐└───┘      ░ └───┘┌─┴─┐└───┘└───┘     \n",
       "q_3: ──────░─┤ X ├───────────░──────┤ X ├───────────────\n",
       "           ░ └───┘           ░      └───┘               "
      ]
     },
     "execution_count": 8,
     "metadata": {},
     "output_type": "execute_result"
    }
   ],
   "source": [
    "\n",
    "\n",
    "#discrete time quantum random walk with a hadamard coin\n",
    "had=QuantumCircuit(4)\n",
    "qubits=had.qubits\n",
    "#coin\n",
    "had.h(0)\n",
    "\n",
    "had.barrier()\n",
    "#increment operator\n",
    "had.mct(\n",
    "    [qubits[0],qubits[1],qubits[2]], qubits[3])\n",
    "had.ccx(0,1,2)\n",
    "had.cx(0,1)\n",
    "\n",
    "had.barrier()\n",
    "#decrement operator\n",
    "had.x([0,1,2])\n",
    "had.mct(\n",
    "    [qubits[0],qubits[1],qubits[2]], qubits[3])\n",
    "had.ccx(0,1,2)\n",
    "had.cx(0,1)\n",
    "had.x([0,1,2])\n",
    "\n",
    "had.draw()\n",
    "\n"
   ]
  },
  {
   "cell_type": "markdown",
   "id": "d783c2e2",
   "metadata": {},
   "source": [
    "A coined discrete time quantum random walk (DTQW) is described by the tensor product of a coin Hilbert space and a position Hilbert space. It takes place on the vertices of a graph. The position space is augmented by the coin space spanned by two basis states {|0>, |1>} that help move the walker in a particular direction depending on the state of the coin. The coin operator enables us to superimpose both states equally. \n",
    "There are different kinds of operators that act as coins in the DTQW and exhibit different behaviors during the walks. Therefore we chose the Grover coin and the Hadamard coin to compare during a walk. \n",
    "We chose the Hadamard gate to act as the Hadamard coin and the Grover diffusion operator to act as the Grover coin for our circuits."
   ]
  },
  {
   "cell_type": "code",
   "execution_count": 9,
   "id": "7e877fdb",
   "metadata": {},
   "outputs": [
    {
     "data": {
      "image/png": "[encoded data removed]",
      "text/plain": [
       "<Figure size 504x360 with 1 Axes>"
      ]
     },
     "execution_count": 9,
     "metadata": {},
     "output_type": "execute_result"
    }
   ],
   "source": [
    "had.measure_all()\n",
    "\n",
    "aer_sim = Aer.get_backend('aer_simulator')\n",
    "qobj = assemble(had)\n",
    "result = aer_sim.run(qobj).result()\n",
    "counts = result.get_counts()\n",
    "plot_histogram(counts)"
   ]
  },
  {
   "cell_type": "code",
   "execution_count": 11,
   "id": "0b32e4dd",
   "metadata": {},
   "outputs": [],
   "source": [
    "\n",
    "\n",
    "#discrete time quantum random walk with a grover coin \n",
    "grover = QuantumCircuit(2) \n",
    "# Coin operator\n",
    "grover.h([0,1])\n",
    "grover.z([0,1])\n",
    "grover.cz(0,1)\n",
    "grover.h([0,1])\n",
    "\n",
    "grover_gate = grover.to_instruction()\n",
    "\n"
   ]
  },
  {
   "cell_type": "code",
   "execution_count": 13,
   "id": "2fc086f7",
   "metadata": {},
   "outputs": [
    {
     "ename": "CircuitError",
     "evalue": "'The amount of qubit arguments 4 does not match the instruction expectation (2).'",
     "output_type": "error",
     "traceback": [
      "\u001b[1;31m---------------------------------------------------------------------------\u001b[0m",
      "\u001b[1;31mCircuitError\u001b[0m                              Traceback (most recent call last)",
      "\u001b[1;32m~\\AppData\\Local\\Temp/ipykernel_15140/2970441785.py\u001b[0m in \u001b[0;36m<module>\u001b[1;34m\u001b[0m\n\u001b[0;32m      1\u001b[0m \u001b[0mcirc\u001b[0m\u001b[1;33m=\u001b[0m\u001b[0mQuantumCircuit\u001b[0m\u001b[1;33m(\u001b[0m\u001b[1;36m4\u001b[0m\u001b[1;33m)\u001b[0m\u001b[1;33m\u001b[0m\u001b[1;33m\u001b[0m\u001b[0m\n\u001b[1;32m----> 2\u001b[1;33m \u001b[0mcirc\u001b[0m\u001b[1;33m.\u001b[0m\u001b[0mappend\u001b[0m\u001b[1;33m(\u001b[0m\u001b[0mgrover_gate\u001b[0m\u001b[1;33m,\u001b[0m\u001b[1;33m[\u001b[0m\u001b[1;36m0\u001b[0m\u001b[1;33m,\u001b[0m\u001b[1;36m1\u001b[0m\u001b[1;33m,\u001b[0m\u001b[1;36m2\u001b[0m\u001b[1;33m,\u001b[0m\u001b[1;36m3\u001b[0m\u001b[1;33m]\u001b[0m\u001b[1;33m)\u001b[0m\u001b[1;33m\u001b[0m\u001b[1;33m\u001b[0m\u001b[0m\n\u001b[0m\u001b[0;32m      3\u001b[0m \u001b[0mcirc\u001b[0m\u001b[1;33m.\u001b[0m\u001b[0mbarrier\u001b[0m\u001b[1;33m(\u001b[0m\u001b[1;33m)\u001b[0m\u001b[1;33m\u001b[0m\u001b[1;33m\u001b[0m\u001b[0m\n\u001b[0;32m      4\u001b[0m \u001b[1;31m#increment operator\u001b[0m\u001b[1;33m\u001b[0m\u001b[1;33m\u001b[0m\u001b[1;33m\u001b[0m\u001b[0m\n\u001b[0;32m      5\u001b[0m circ.mct(\n",
      "\u001b[1;32mc:\\users\\ali\\appdata\\local\\programs\\python\\python39\\lib\\site-packages\\qiskit\\circuit\\quantumcircuit.py\u001b[0m in \u001b[0;36mappend\u001b[1;34m(self, instruction, qargs, cargs)\u001b[0m\n\u001b[0;32m   1228\u001b[0m             \u001b[0mrequester\u001b[0m \u001b[1;33m=\u001b[0m \u001b[0mself\u001b[0m\u001b[1;33m.\u001b[0m\u001b[0m_resolve_classical_resource\u001b[0m\u001b[1;33m\u001b[0m\u001b[1;33m\u001b[0m\u001b[0m\n\u001b[0;32m   1229\u001b[0m         \u001b[0minstructions\u001b[0m \u001b[1;33m=\u001b[0m \u001b[0mInstructionSet\u001b[0m\u001b[1;33m(\u001b[0m\u001b[0mresource_requester\u001b[0m\u001b[1;33m=\u001b[0m\u001b[0mrequester\u001b[0m\u001b[1;33m)\u001b[0m\u001b[1;33m\u001b[0m\u001b[1;33m\u001b[0m\u001b[0m\n\u001b[1;32m-> 1230\u001b[1;33m         \u001b[1;32mfor\u001b[0m \u001b[0mqarg\u001b[0m\u001b[1;33m,\u001b[0m \u001b[0mcarg\u001b[0m \u001b[1;32min\u001b[0m \u001b[0minstruction\u001b[0m\u001b[1;33m.\u001b[0m\u001b[0mbroadcast_arguments\u001b[0m\u001b[1;33m(\u001b[0m\u001b[0mexpanded_qargs\u001b[0m\u001b[1;33m,\u001b[0m \u001b[0mexpanded_cargs\u001b[0m\u001b[1;33m)\u001b[0m\u001b[1;33m:\u001b[0m\u001b[1;33m\u001b[0m\u001b[1;33m\u001b[0m\u001b[0m\n\u001b[0m\u001b[0;32m   1231\u001b[0m             \u001b[0minstructions\u001b[0m\u001b[1;33m.\u001b[0m\u001b[0madd\u001b[0m\u001b[1;33m(\u001b[0m\u001b[0mappender\u001b[0m\u001b[1;33m(\u001b[0m\u001b[0minstruction\u001b[0m\u001b[1;33m,\u001b[0m \u001b[0mqarg\u001b[0m\u001b[1;33m,\u001b[0m \u001b[0mcarg\u001b[0m\u001b[1;33m)\u001b[0m\u001b[1;33m,\u001b[0m \u001b[0mqarg\u001b[0m\u001b[1;33m,\u001b[0m \u001b[0mcarg\u001b[0m\u001b[1;33m)\u001b[0m\u001b[1;33m\u001b[0m\u001b[1;33m\u001b[0m\u001b[0m\n\u001b[0;32m   1232\u001b[0m         \u001b[1;32mreturn\u001b[0m \u001b[0minstructions\u001b[0m\u001b[1;33m\u001b[0m\u001b[1;33m\u001b[0m\u001b[0m\n",
      "\u001b[1;32mc:\\users\\ali\\appdata\\local\\programs\\python\\python39\\lib\\site-packages\\qiskit\\circuit\\instruction.py\u001b[0m in \u001b[0;36mbroadcast_arguments\u001b[1;34m(self, qargs, cargs)\u001b[0m\n\u001b[0;32m    486\u001b[0m         \"\"\"\n\u001b[0;32m    487\u001b[0m         \u001b[1;32mif\u001b[0m \u001b[0mlen\u001b[0m\u001b[1;33m(\u001b[0m\u001b[0mqargs\u001b[0m\u001b[1;33m)\u001b[0m \u001b[1;33m!=\u001b[0m \u001b[0mself\u001b[0m\u001b[1;33m.\u001b[0m\u001b[0mnum_qubits\u001b[0m\u001b[1;33m:\u001b[0m\u001b[1;33m\u001b[0m\u001b[1;33m\u001b[0m\u001b[0m\n\u001b[1;32m--> 488\u001b[1;33m             raise CircuitError(\n\u001b[0m\u001b[0;32m    489\u001b[0m                 \u001b[1;34mf\"The amount of qubit arguments {len(qargs)} does not match\"\u001b[0m\u001b[1;33m\u001b[0m\u001b[1;33m\u001b[0m\u001b[0m\n\u001b[0;32m    490\u001b[0m                 \u001b[1;34mf\" the instruction expectation ({self.num_qubits}).\"\u001b[0m\u001b[1;33m\u001b[0m\u001b[1;33m\u001b[0m\u001b[0m\n",
      "\u001b[1;31mCircuitError\u001b[0m: 'The amount of qubit arguments 4 does not match the instruction expectation (2).'"
     ]
    }
   ],
   "source": [
    "circ=QuantumCircuit(4)\n",
    "circ.append(grover_gate,[0,1,2,3])\n",
    "circ.barrier()\n",
    "#increment operator\n",
    "circ.mct(\n",
    "    [qubits[0],qubits[1],qubits[2]], qubits[3])\n",
    "circ.ccx(0,1,2)\n",
    "circ.cx(0,1)\n",
    "\n",
    "circ.barrier()\n",
    "#decrement operator\n",
    "circ.x([0,1,2])\n",
    "circ.mct(\n",
    "    [qubits[0],qubits[1],qubits[2]], qubits[3])\n",
    "circ.ccx(0,1,2)\n",
    "circ.cx(0,1)\n",
    "circ.x([0,1,2])\n",
    "circ.draw()\n",
    "\n"
   ]
  },
  {
   "cell_type": "code",
   "execution_count": 14,
   "id": "09e36a44",
   "metadata": {},
   "outputs": [
    {
     "data": {
      "image/png": "[encoded data removed]",
      "text/plain": [
       "<Figure size 504x360 with 1 Axes>"
      ]
     },
     "execution_count": 14,
     "metadata": {},
     "output_type": "execute_result"
    }
   ],
   "source": [
    "\n",
    "\n",
    "grover.measure_all()\n",
    "\n",
    "aer_sim = Aer.get_backend('aer_simulator')\n",
    "qobj = assemble(grover)\n",
    "result = aer_sim.run(qobj).result()\n",
    "counts = result.get_counts()\n",
    "plot_histogram(counts)\n",
    "\n"
   ]
  },
  {
   "cell_type": "markdown",
   "id": "39eeb694",
   "metadata": {},
   "source": [
    "It is observed that the hadamard coin shows equal probabilities of the walker traversing the walk in a particular direction as compared to the other. Whereas the grover coin does not put the walker in an equal superposition as the Hadamard coin does. Instead, one state has a much larger probability than the other states.\n",
    "Therefore if we start the quantum walk in an equal superposition of all the directions and measure the grover coin space after\n",
    "each iteration the resulting (classical) walk will have a\n",
    "higher propensity to go back and forth on the same edge\n",
    "than to switch directions.\n",
    "To demonstrate this, we can run this circuit repeatedly to get approximately the same walk"
   ]
  },
  {
   "cell_type": "code",
   "execution_count": null,
   "id": "083a6d01",
   "metadata": {},
   "outputs": [],
   "source": []
  }
 ],
 "metadata": {
  "kernelspec": {
   "display_name": "Python 3 (ipykernel)",
   "language": "python",
   "name": "python3"
  },
  "language_info": {
   "codemirror_mode": {
    "name": "ipython",
    "version": 3
   },
   "file_extension": ".py",
   "mimetype": "text/x-python",
   "name": "python",
   "nbconvert_exporter": "python",
   "pygments_lexer": "ipython3",
   "version": "3.9.0"
  }
 },
 "nbformat": 4,
 "nbformat_minor": 5
}
