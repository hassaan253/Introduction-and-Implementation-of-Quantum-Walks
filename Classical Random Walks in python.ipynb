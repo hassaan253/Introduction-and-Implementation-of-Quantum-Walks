{
 "cells": [
  {
   "cell_type": "markdown",
   "metadata": {},
   "source": [
    "# Graphs"
   ]
  },
  {
   "cell_type": "code",
   "execution_count": 24,
   "metadata": {},
   "outputs": [],
   "source": [
    "# %load graph.py\n",
    "\"\"\" A Python Class\n",
    "A simple Python graph class, demonstrating the essential \n",
    "facts and functionalities of graphs.\n",
    "\"\"\"\n",
    "\n",
    "import random\n",
    "\n",
    "class Graph(object):\n",
    "\n",
    "    def __init__(self, graph_dict=None):\n",
    "        \"\"\" initializes a graph object \n",
    "            If no dictionary or None is given, \n",
    "            an empty dictionary will be used\n",
    "        \"\"\"\n",
    "        if graph_dict == None:\n",
    "            graph_dict = {}\n",
    "        self._graph_dict = graph_dict\n",
    "\n",
    "    def edges(self, vertice):\n",
    "        \"\"\" returns a list of all the edges of a vertice\"\"\"\n",
    "        return self._graph_dict[vertice]\n",
    "        \n",
    "    def all_vertices(self):\n",
    "        \"\"\" returns the vertices of a graph as a set \"\"\"\n",
    "        return set(self._graph_dict.keys())\n",
    "\n",
    "    def all_edges(self):\n",
    "        \"\"\" returns the edges of a graph \"\"\"\n",
    "        return self.__generate_edges()\n",
    "\n",
    "    def add_vertex(self, vertex):\n",
    "        \"\"\" If the vertex \"vertex\" is not in \n",
    "            self._graph_dict, a key \"vertex\" with an empty\n",
    "            list as a value is added to the dictionary. \n",
    "            Otherwise nothing has to be done. \n",
    "        \"\"\"\n",
    "        if vertex not in self._graph_dict:\n",
    "            self._graph_dict[vertex] = []\n",
    "\n",
    "    def add_edge(self, edge):\n",
    "        \"\"\" assumes that edge is of type set, tuple or list; \n",
    "            between two vertices can be multiple edges! \n",
    "        \"\"\"\n",
    "        edge = set(edge)\n",
    "        vertex1, vertex2 = tuple(edge)\n",
    "        for x, y in [(vertex1, vertex2), (vertex2, vertex1)]:\n",
    "            if x in self._graph_dict:\n",
    "                self._graph_dict[x].add(y)\n",
    "            else:\n",
    "                self._graph_dict[x] = [y]\n",
    "\n",
    "    def __generate_edges(self):\n",
    "        \"\"\" A static method generating the edges of the \n",
    "            graph \"graph\". Edges are represented as sets \n",
    "            with one (a loop back to the vertex) or two \n",
    "            vertices \n",
    "        \"\"\"\n",
    "        edges = []\n",
    "        for vertex in self._graph_dict:\n",
    "            for neighbour in self._graph_dict[vertex]:\n",
    "                if {neighbour, vertex} not in edges:\n",
    "                    edges.append({vertex, neighbour})\n",
    "        return edges\n",
    "    \n",
    "    def __iter__(self):\n",
    "        self._iter_obj = iter(self._graph_dict)\n",
    "        return self._iter_obj\n",
    "    \n",
    "    def __next__(self):\n",
    "        \"\"\" allows us to iterate over the vertices \"\"\"\n",
    "        return next(self._iter_obj)\n",
    "\n",
    "    def __str__(self):\n",
    "        res = \"vertices: \"\n",
    "        for k in self._graph_dict:\n",
    "            res += str(k) + \" \"\n",
    "        res += \"\\nedges: \"\n",
    "        for edge in self.__generate_edges():\n",
    "            res += str(edge) + \" \"\n",
    "        return res\n",
    "\n",
    "    def random_walk(self,start,end, num_vertices):\n",
    "        path = []\n",
    "        my_graph = self._graph_dict\n",
    "        neighbors = my_graph[start] # a list of adjacent vertices\n",
    "        neighbors = list(neighbors)\n",
    "        counter = 0\n",
    "        print(start)\n",
    "        start = random.choice(neighbors)\n",
    "        print(\"Its neighbors are...\")\n",
    "        print(neighbors)\n",
    "        print(\"Start of the walk.....\\n\")\n",
    "        print(start)\n",
    "        \n",
    "        if (start == end):\n",
    "            print(\"YES\")\n",
    "            return \"YES\"\n",
    "\n",
    "        while(start != end):\n",
    "            neighbors = my_graph[start] # a list of adjacent vertices\n",
    "            neighbors = list(neighbors)\n",
    "            print(neighbors)\n",
    "            start = random.choice(neighbors)\n",
    "           \n",
    "            print(start)\n",
    "            counter += 1\n",
    "            print(\"Step: \", counter)\n",
    "            if (counter == num_vertices ** 3):\n",
    "                print(\"NO\")\n",
    "                break\n",
    "        \n",
    "\n",
    "\n",
    "\n",
    "        "
   ]
  },
  {
   "cell_type": "code",
   "execution_count": 32,
   "metadata": {},
   "outputs": [
    {
     "name": "stdout",
     "output_type": "stream",
     "text": [
      "Edges of vertice a:  {'c', 'b'}\n",
      "Edges of vertice b:  {'d', 'a'}\n",
      "Edges of vertice c:  {'a', 'e'}\n",
      "Edges of vertice d:  {'f', 'b'}\n",
      "Edges of vertice e:  {'c', 'f'}\n",
      "Edges of vertice f:  {'d', 'e'}\n",
      "a\n",
      "Its neighbors are...\n",
      "['c', 'b']\n",
      "Start of the walk.....\n",
      "\n",
      "b\n",
      "['d', 'a']\n",
      "a\n",
      "Step:  1\n",
      "['c', 'b']\n",
      "b\n",
      "Step:  2\n",
      "['d', 'a']\n",
      "a\n",
      "Step:  3\n",
      "['c', 'b']\n",
      "c\n",
      "Step:  4\n",
      "['a', 'e']\n",
      "a\n",
      "Step:  5\n",
      "['c', 'b']\n",
      "c\n",
      "Step:  6\n",
      "['a', 'e']\n",
      "a\n",
      "Step:  7\n",
      "['c', 'b']\n",
      "b\n",
      "Step:  8\n",
      "['d', 'a']\n",
      "d\n",
      "Step:  9\n"
     ]
    }
   ],
   "source": [
    "        # start = a,,,,, my_graph[a] = values // d\n",
    "#making a dictionary g containing vertices of graph and their connections\n",
    "g = { \"a\" : {\"b\",\"c\"},\n",
    "      \"b\" : {\"a\",\"d\"},\n",
    "      \"c\" : {\"a\", \"e\"},\n",
    "      \"d\" : {\"f\", \"b\"},\n",
    "      \"e\" : {\"f\",\"c\"},\n",
    "      \"f\" : {\"e\", \"d\"}\n",
    "      \n",
    "    }\n",
    "#intiializing graph object\n",
    "graph = Graph(g)\n",
    "\n",
    "for vertice in graph:\n",
    "    print(f\"Edges of vertice {vertice}: \", graph.edges(vertice))\n",
    "graph.random_walk(\"a\", \"d\", 6)"
   ]
  },
  {
   "cell_type": "code",
   "execution_count": 33,
   "metadata": {},
   "outputs": [
    {
     "name": "stdout",
     "output_type": "stream",
     "text": [
      "a\n",
      "b\n",
      "c\n",
      "d\n"
     ]
    }
   ],
   "source": [
    "for x,y in [('a','b'), ('c','d')]:\n",
    "    print(x)\n",
    "    print(y)"
   ]
  },
  {
   "cell_type": "code",
   "execution_count": 34,
   "metadata": {},
   "outputs": [],
   "source": [
    "g = { \"a\" : {\"d\", \"1\", \"3\", \"4\"},\n",
    "      \"b\" : {\"c\"},\n",
    "      \"c\" : {\"b\", \"c\", \"d\", \"e\"},\n",
    "      \"d\" : {\"a\", \"c\"},\n",
    "      \"e\" : {\"c\"},\n",
    "      \"f\" : {}\n",
    "    }"
   ]
  },
  {
   "cell_type": "code",
   "execution_count": 20,
   "metadata": {},
   "outputs": [],
   "source": [
    " vertices = g[\"a\"]\n",
    "vertices = list(vertices)"
   ]
  },
  {
   "cell_type": "code",
   "execution_count": 21,
   "metadata": {},
   "outputs": [
    {
     "name": "stdout",
     "output_type": "stream",
     "text": [
      "['d', '1', '4', '3']\n"
     ]
    }
   ],
   "source": [
    "print(vertices)"
   ]
  },
  {
   "cell_type": "code",
   "execution_count": 9,
   "metadata": {},
   "outputs": [
    {
     "name": "stdout",
     "output_type": "stream",
     "text": [
      "<class 'set'>\n"
     ]
    }
   ],
   "source": [
    "print(type(vertices))"
   ]
  },
  {
   "cell_type": "code",
   "execution_count": null,
   "metadata": {},
   "outputs": [],
   "source": []
  }
 ],
 "metadata": {
  "kernelspec": {
   "display_name": "Python 3 (ipykernel)",
   "language": "python",
   "name": "python3"
  },
  "language_info": {
   "codemirror_mode": {
    "name": "ipython",
    "version": 3
   },
   "file_extension": ".py",
   "mimetype": "text/x-python",
   "name": "python",
   "nbconvert_exporter": "python",
   "pygments_lexer": "ipython3",
   "version": "3.7.7"
  }
 },
 "nbformat": 4,
 "nbformat_minor": 4
}
